{
 "cells": [
  {
   "cell_type": "code",
   "execution_count": 1,
   "id": "b711f922",
   "metadata": {},
   "outputs": [
    {
     "name": "stdout",
     "output_type": "stream",
     "text": [
      "\n"
     ]
    }
   ],
   "source": [
    "name=input(\"Enter name\")\n",
    "print(name)\n",
    "\n"
   ]
  },
  {
   "cell_type": "code",
   "execution_count": 2,
   "id": "2e046eff",
   "metadata": {},
   "outputs": [
    {
     "name": "stdout",
     "output_type": "stream",
     "text": [
      "hello\n"
     ]
    }
   ],
   "source": [
    "print('hello')"
   ]
  },
  {
   "cell_type": "markdown",
   "id": "5c663a9d",
   "metadata": {},
   "source": [
    "`this will appear in monotonous font`"
   ]
  },
  {
   "cell_type": "code",
   "execution_count": null,
   "id": "c15c417c",
   "metadata": {},
   "outputs": [],
   "source": [
    "# "
   ]
  },
  {
   "cell_type": "markdown",
   "id": "90e2ac1d",
   "metadata": {},
   "source": [
    "# Single line comments"
   ]
  },
  {
   "cell_type": "code",
   "execution_count": 4,
   "id": "35950ed5",
   "metadata": {},
   "outputs": [
    {
     "name": "stdout",
     "output_type": "stream",
     "text": [
      "hello world\n"
     ]
    }
   ],
   "source": [
    "# print('hello world')\n",
    "print('hello world')"
   ]
  },
  {
   "cell_type": "code",
   "execution_count": 5,
   "id": "c155fb23",
   "metadata": {},
   "outputs": [
    {
     "name": "stdout",
     "output_type": "stream",
     "text": [
      "hello world\n"
     ]
    }
   ],
   "source": [
    "# print('hello world')\n",
    "# print('hello world')\n",
    "# print('hello world')\n",
    "print('hello world')\n"
   ]
  },
  {
   "cell_type": "markdown",
   "id": "4bb56972",
   "metadata": {},
   "source": [
    "# Multiline comments"
   ]
  },
  {
   "cell_type": "code",
   "execution_count": null,
   "id": "eb004a24",
   "metadata": {},
   "outputs": [],
   "source": [
    "''' \n",
    "print('hello world')'''"
   ]
  },
  {
   "cell_type": "markdown",
   "id": "18b29a88",
   "metadata": {},
   "source": [
    "# Variables and datatypes "
   ]
  },
  {
   "cell_type": "code",
   "execution_count": null,
   "id": "8953fe4e",
   "metadata": {},
   "outputs": [],
   "source": [
    "x=10\n",
    "name=\"sushant\"\n",
    "# variables are case sensitive "
   ]
  },
  {
   "cell_type": "code",
   "execution_count": null,
   "id": "580ca62b",
   "metadata": {},
   "outputs": [],
   "source": [
    "# int -> example : x=5\n",
    "# float -> example : pi=3.14\n",
    "# string -> example : name=\"sushant\"\n",
    "# bool -> example : x=True\n",
    "# list -> example : x=[90.37]\n",
    "# dict -> example : {'x'='disha'}\n",
    "# NoneType -> example : x=None"
   ]
  },
  {
   "cell_type": "markdown",
   "id": "bed3e103",
   "metadata": {},
   "source": [
    "# Assigning values to a variable\n"
   ]
  },
  {
   "cell_type": "code",
   "execution_count": 6,
   "id": "73a5e5d0",
   "metadata": {},
   "outputs": [
    {
     "name": "stdout",
     "output_type": "stream",
     "text": [
      "10\n",
      "3.14\n",
      "disha\n"
     ]
    }
   ],
   "source": [
    "a=10\n",
    "b=3.14\n",
    "c=\"disha\"\n",
    "print(a)\n",
    "print(b)\n",
    "print(c)"
   ]
  },
  {
   "cell_type": "code",
   "execution_count": 7,
   "id": "818ee53c",
   "metadata": {},
   "outputs": [
    {
     "name": "stdout",
     "output_type": "stream",
     "text": [
      "value a 10\n"
     ]
    }
   ],
   "source": [
    "print('value a',a)"
   ]
  },
  {
   "cell_type": "code",
   "execution_count": null,
   "id": "a70ef075",
   "metadata": {},
   "outputs": [],
   "source": []
  },
  {
   "cell_type": "code",
   "execution_count": null,
   "id": "9faee9a3",
   "metadata": {},
   "outputs": [],
   "source": []
  },
  {
   "cell_type": "code",
   "execution_count": null,
   "id": "bdb13e53",
   "metadata": {},
   "outputs": [],
   "source": []
  },
  {
   "cell_type": "code",
   "execution_count": null,
   "id": "49685071",
   "metadata": {},
   "outputs": [],
   "source": []
  },
  {
   "cell_type": "code",
   "execution_count": null,
   "metadata": {},
   "outputs": [],
   "source": []
  },
  {
   "cell_type": "code",
   "execution_count": null,
   "id": "a654059d",
   "metadata": {},
   "outputs": [],
   "source": []
  }
 ],
 "metadata": {
  "kernelspec": {
   "display_name": "Python 3",
   "language": "python",
   "name": "python3"
  },
  "language_info": {
   "codemirror_mode": {
    "name": "ipython",
    "version": 3
   },
   "file_extension": ".py",
   "mimetype": "text/x-python",
   "name": "python",
   "nbconvert_exporter": "python",
   "pygments_lexer": "ipython3",
   "version": "3.10.0"
  }
 },
 "nbformat": 4,
 "nbformat_minor": 5
}
